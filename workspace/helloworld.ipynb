{
 "cells": [
  {
   "cell_type": "code",
   "execution_count": 10,
   "id": "764ee794-ed2d-4cae-a72b-64cc3854dda8",
   "metadata": {},
   "outputs": [
    {
     "name": "stdout",
     "output_type": "stream",
     "text": [
      "hello world\n",
      "hello world2\n"
     ]
    }
   ],
   "source": [
    "print(\"hello world\")\n",
    "print(\"hello world2\")\n",
    "x=10"
   ]
  },
  {
   "cell_type": "code",
   "execution_count": 12,
   "id": "fa3cb1a6-b6cb-4ff0-9c2f-bcb7bb72c376",
   "metadata": {},
   "outputs": [
    {
     "name": "stdout",
     "output_type": "stream",
     "text": [
      "10\n"
     ]
    }
   ],
   "source": [
    "print(x)"
   ]
  },
  {
   "cell_type": "code",
   "execution_count": 27,
   "id": "d263b523-cfa2-474e-9f33-f83faa3ebf31",
   "metadata": {},
   "outputs": [
    {
     "ename": "SyntaxError",
     "evalue": "invalid syntax (2325357809.py, line 8)",
     "output_type": "error",
     "traceback": [
      "\u001b[0;36m  Cell \u001b[0;32mIn [27], line 8\u001b[0;36m\u001b[0m\n\u001b[0;31m    result[]\u001b[0m\n\u001b[0m           ^\u001b[0m\n\u001b[0;31mSyntaxError\u001b[0m\u001b[0;31m:\u001b[0m invalid syntax\n"
     ]
    }
   ],
   "source": [
    "import os\n",
    "\n",
    "path = os.getcwd()\n",
    "\n",
    "print(path)\n",
    "\n",
    "\n",
    "result[]\n",
    "result[\"M1-MBA2020-1TB-SSD\"] = []\n",
    "result[\"M1-MBA2020-1TB-SSD\"].append(\"randR-32MB.txt\")\n",
    "result[\"M1-MBA2020-1TB-SSD\"].append(\"randR-4KB.txt\")\n",
    "result[\"M1-MBA2020-1TB-SSD\"].append(\"randW-32MB.txt\")\n",
    "result[\"M1-MBA2020-1TB-SSD\"].append(\"randW-4KB.txt\")\n",
    "result[\"M1-MBA2020-1TB-SSD\"].append(\"seqR-32MB.txt\")\n",
    "result[\"M1-MBA2020-1TB-SSD\"].append(\"seqR-4KB.txt\")\n",
    "result[\"M1-MBA2020-1TB-SSD\"].append(\"seqW-32MB.txt\")\n",
    "result[\"M1-MBA2020-1TB-SSD\"].append(\"seqW-4KB.txt\")\n",
    "\n",
    "\n",
    "\n",
    "\n",
    "\n",
    "\n",
    "\n",
    "\n",
    "\n",
    "with open('results/M1-MBA2020-1TB-SSD/randR-32MB.txt') as f:\n",
    "    df = json.load(f)\n",
    "    \n",
    "# print(df)\n",
    "# print(df['fio version'])\n",
    "print(df['jobs'][0]['read']['bw'])\n",
    "print(df['jobs'][0]['read']['iops'])\n",
    "\n",
    "\n"
   ]
  }
 ],
 "metadata": {
  "kernelspec": {
   "display_name": "Python 3 (ipykernel)",
   "language": "python",
   "name": "python3"
  },
  "language_info": {
   "codemirror_mode": {
    "name": "ipython",
    "version": 3
   },
   "file_extension": ".py",
   "mimetype": "text/x-python",
   "name": "python",
   "nbconvert_exporter": "python",
   "pygments_lexer": "ipython3",
   "version": "3.8.10"
  }
 },
 "nbformat": 4,
 "nbformat_minor": 5
}
